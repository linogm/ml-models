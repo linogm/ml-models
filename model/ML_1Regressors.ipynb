{
 "cells": [
  {
   "cell_type": "code",
   "execution_count": 1,
   "id": "98fd6df2",
   "metadata": {},
   "outputs": [],
   "source": [
    "import pandas as pd\n",
    "import numpy as np\n",
    "from sklearn.linear_model import LinearRegression\n",
    "from sklearn.metrics import mean_squared_error\n",
    "from sklearn.model_selection import train_test_split"
   ]
  },
  {
   "cell_type": "code",
   "execution_count": 2,
   "id": "2744aae1",
   "metadata": {},
   "outputs": [
    {
     "data": {
      "text/html": [
       "<div>\n",
       "<style scoped>\n",
       "    .dataframe tbody tr th:only-of-type {\n",
       "        vertical-align: middle;\n",
       "    }\n",
       "\n",
       "    .dataframe tbody tr th {\n",
       "        vertical-align: top;\n",
       "    }\n",
       "\n",
       "    .dataframe thead th {\n",
       "        text-align: right;\n",
       "    }\n",
       "</style>\n",
       "<table border=\"1\" class=\"dataframe\">\n",
       "  <thead>\n",
       "    <tr style=\"text-align: right;\">\n",
       "      <th></th>\n",
       "      <th>CRIM</th>\n",
       "      <th>ZN</th>\n",
       "      <th>INDUS</th>\n",
       "      <th>CHAS</th>\n",
       "      <th>NOX</th>\n",
       "      <th>RM</th>\n",
       "      <th>AGE</th>\n",
       "      <th>DIS</th>\n",
       "      <th>RAD</th>\n",
       "      <th>TAX</th>\n",
       "      <th>PTRATIO</th>\n",
       "      <th>B</th>\n",
       "      <th>LSTAT</th>\n",
       "      <th>MEDV</th>\n",
       "    </tr>\n",
       "  </thead>\n",
       "  <tbody>\n",
       "    <tr>\n",
       "      <th>0</th>\n",
       "      <td>0.00632</td>\n",
       "      <td>18.0</td>\n",
       "      <td>2.31</td>\n",
       "      <td>0.0</td>\n",
       "      <td>0.538</td>\n",
       "      <td>6.575</td>\n",
       "      <td>65.2</td>\n",
       "      <td>4.0900</td>\n",
       "      <td>1</td>\n",
       "      <td>296</td>\n",
       "      <td>15.3</td>\n",
       "      <td>396.90</td>\n",
       "      <td>4.98</td>\n",
       "      <td>24.0</td>\n",
       "    </tr>\n",
       "    <tr>\n",
       "      <th>1</th>\n",
       "      <td>0.02731</td>\n",
       "      <td>0.0</td>\n",
       "      <td>7.07</td>\n",
       "      <td>0.0</td>\n",
       "      <td>0.469</td>\n",
       "      <td>6.421</td>\n",
       "      <td>78.9</td>\n",
       "      <td>4.9671</td>\n",
       "      <td>2</td>\n",
       "      <td>242</td>\n",
       "      <td>17.8</td>\n",
       "      <td>396.90</td>\n",
       "      <td>9.14</td>\n",
       "      <td>21.6</td>\n",
       "    </tr>\n",
       "    <tr>\n",
       "      <th>2</th>\n",
       "      <td>0.02729</td>\n",
       "      <td>0.0</td>\n",
       "      <td>7.07</td>\n",
       "      <td>0.0</td>\n",
       "      <td>0.469</td>\n",
       "      <td>7.185</td>\n",
       "      <td>61.1</td>\n",
       "      <td>4.9671</td>\n",
       "      <td>2</td>\n",
       "      <td>242</td>\n",
       "      <td>17.8</td>\n",
       "      <td>392.83</td>\n",
       "      <td>4.03</td>\n",
       "      <td>34.7</td>\n",
       "    </tr>\n",
       "    <tr>\n",
       "      <th>3</th>\n",
       "      <td>0.03237</td>\n",
       "      <td>0.0</td>\n",
       "      <td>2.18</td>\n",
       "      <td>0.0</td>\n",
       "      <td>0.458</td>\n",
       "      <td>6.998</td>\n",
       "      <td>45.8</td>\n",
       "      <td>6.0622</td>\n",
       "      <td>3</td>\n",
       "      <td>222</td>\n",
       "      <td>18.7</td>\n",
       "      <td>394.63</td>\n",
       "      <td>2.94</td>\n",
       "      <td>33.4</td>\n",
       "    </tr>\n",
       "    <tr>\n",
       "      <th>4</th>\n",
       "      <td>0.06905</td>\n",
       "      <td>0.0</td>\n",
       "      <td>2.18</td>\n",
       "      <td>0.0</td>\n",
       "      <td>0.458</td>\n",
       "      <td>7.147</td>\n",
       "      <td>54.2</td>\n",
       "      <td>6.0622</td>\n",
       "      <td>3</td>\n",
       "      <td>222</td>\n",
       "      <td>18.7</td>\n",
       "      <td>396.90</td>\n",
       "      <td>NaN</td>\n",
       "      <td>36.2</td>\n",
       "    </tr>\n",
       "  </tbody>\n",
       "</table>\n",
       "</div>"
      ],
      "text/plain": [
       "      CRIM    ZN  INDUS  CHAS    NOX     RM   AGE     DIS  RAD  TAX  PTRATIO  \\\n",
       "0  0.00632  18.0   2.31   0.0  0.538  6.575  65.2  4.0900    1  296     15.3   \n",
       "1  0.02731   0.0   7.07   0.0  0.469  6.421  78.9  4.9671    2  242     17.8   \n",
       "2  0.02729   0.0   7.07   0.0  0.469  7.185  61.1  4.9671    2  242     17.8   \n",
       "3  0.03237   0.0   2.18   0.0  0.458  6.998  45.8  6.0622    3  222     18.7   \n",
       "4  0.06905   0.0   2.18   0.0  0.458  7.147  54.2  6.0622    3  222     18.7   \n",
       "\n",
       "        B  LSTAT  MEDV  \n",
       "0  396.90   4.98  24.0  \n",
       "1  396.90   9.14  21.6  \n",
       "2  392.83   4.03  34.7  \n",
       "3  394.63   2.94  33.4  \n",
       "4  396.90    NaN  36.2  "
      ]
     },
     "execution_count": 2,
     "metadata": {},
     "output_type": "execute_result"
    }
   ],
   "source": [
    "#load data\n",
    "housing_df = pd.read_csv('HousingData.csv')\n",
    "housing_df.head()"
   ]
  },
  {
   "cell_type": "code",
   "execution_count": 4,
   "id": "9fc9c2c1",
   "metadata": {},
   "outputs": [
    {
     "name": "stdout",
     "output_type": "stream",
     "text": [
      "<class 'pandas.core.frame.DataFrame'>\n",
      "RangeIndex: 506 entries, 0 to 505\n",
      "Data columns (total 14 columns):\n",
      " #   Column   Non-Null Count  Dtype  \n",
      "---  ------   --------------  -----  \n",
      " 0   CRIM     486 non-null    float64\n",
      " 1   ZN       486 non-null    float64\n",
      " 2   INDUS    486 non-null    float64\n",
      " 3   CHAS     486 non-null    float64\n",
      " 4   NOX      506 non-null    float64\n",
      " 5   RM       506 non-null    float64\n",
      " 6   AGE      486 non-null    float64\n",
      " 7   DIS      506 non-null    float64\n",
      " 8   RAD      506 non-null    int64  \n",
      " 9   TAX      506 non-null    int64  \n",
      " 10  PTRATIO  506 non-null    float64\n",
      " 11  B        506 non-null    float64\n",
      " 12  LSTAT    486 non-null    float64\n",
      " 13  MEDV     506 non-null    float64\n",
      "dtypes: float64(12), int64(2)\n",
      "memory usage: 55.5 KB\n"
     ]
    }
   ],
   "source": [
    "housing_df.info()"
   ]
  },
  {
   "cell_type": "code",
   "execution_count": 3,
   "id": "c7fae2eb",
   "metadata": {},
   "outputs": [],
   "source": [
    "#drop null values\n",
    "housing_df = housing_df.dropna()"
   ]
  },
  {
   "cell_type": "code",
   "execution_count": 10,
   "id": "d40f25c0",
   "metadata": {
    "scrolled": true
   },
   "outputs": [
    {
     "name": "stdout",
     "output_type": "stream",
     "text": [
      "<class 'pandas.core.frame.DataFrame'>\n",
      "Int64Index: 394 entries, 0 to 504\n",
      "Data columns (total 14 columns):\n",
      " #   Column   Non-Null Count  Dtype  \n",
      "---  ------   --------------  -----  \n",
      " 0   CRIM     394 non-null    float64\n",
      " 1   ZN       394 non-null    float64\n",
      " 2   INDUS    394 non-null    float64\n",
      " 3   CHAS     394 non-null    float64\n",
      " 4   NOX      394 non-null    float64\n",
      " 5   RM       394 non-null    float64\n",
      " 6   AGE      394 non-null    float64\n",
      " 7   DIS      394 non-null    float64\n",
      " 8   RAD      394 non-null    int64  \n",
      " 9   TAX      394 non-null    int64  \n",
      " 10  PTRATIO  394 non-null    float64\n",
      " 11  B        394 non-null    float64\n",
      " 12  LSTAT    394 non-null    float64\n",
      " 13  MEDV     394 non-null    float64\n",
      "dtypes: float64(12), int64(2)\n",
      "memory usage: 46.2 KB\n"
     ]
    }
   ],
   "source": [
    "housing_df.info()"
   ]
  },
  {
   "cell_type": "code",
   "execution_count": 4,
   "id": "3e60e093",
   "metadata": {},
   "outputs": [],
   "source": [
    "# declare X for the PREDICTOR columns and Y for the TARGET column\n",
    "X = housing_df.iloc[:,:-1]\n",
    "y = housing_df.iloc[:, -1]"
   ]
  },
  {
   "cell_type": "code",
   "execution_count": 5,
   "id": "c1c1e6bc",
   "metadata": {},
   "outputs": [],
   "source": [
    "#Create training and test sets\n",
    "X_train, X_test, y_train, y_test = train_test_split(X, y, test_size=0.2)"
   ]
  },
  {
   "cell_type": "code",
   "execution_count": 6,
   "id": "758cf702",
   "metadata": {},
   "outputs": [],
   "source": [
    "#Create the regressor: reg\n",
    "reg = LinearRegression()"
   ]
  },
  {
   "cell_type": "code",
   "execution_count": 7,
   "id": "569b209c",
   "metadata": {},
   "outputs": [
    {
     "data": {
      "text/plain": [
       "LinearRegression()"
      ]
     },
     "execution_count": 7,
     "metadata": {},
     "output_type": "execute_result"
    }
   ],
   "source": [
    "#Fit the regressor to the training data\n",
    "reg.fit(X_train, y_train)"
   ]
  },
  {
   "cell_type": "code",
   "execution_count": 15,
   "id": "a1c396c7",
   "metadata": {},
   "outputs": [],
   "source": [
    "#Predict on the test data: y_pred\n",
    "y_pred = reg.predict(X_test)"
   ]
  },
  {
   "cell_type": "code",
   "execution_count": 17,
   "id": "948bd937",
   "metadata": {},
   "outputs": [
    {
     "name": "stdout",
     "output_type": "stream",
     "text": [
      "Root Mean Squared Error: 4.363639996769479\n"
     ]
    }
   ],
   "source": [
    "# Compute and print RMSE\n",
    "rmse = np.sqrt(mean_squared_error(y_test, y_pred))\n",
    "print(\"Root Mean Squared Error: {}\".format(rmse))"
   ]
  },
  {
   "cell_type": "code",
   "execution_count": 8,
   "id": "6b73480f",
   "metadata": {},
   "outputs": [],
   "source": [
    "def regression_model(model):\n",
    "    # Create training and test sets\n",
    "    X_train, X_test, y_train, y_test = train_test_split(X, y, test_size=0.2)\n",
    "    # Create the regressor: reg_all\n",
    "    reg_all = model\n",
    "    # Fit the regressor to the training data\n",
    "    reg_all.fit(X_train, y_train)\n",
    "    # Predict on the test data: y_pred\n",
    "    y_pred = reg_all.predict(X_test)\n",
    "    # Compute and print RMSE\n",
    "    rmse = np.sqrt(mean_squared_error(y_test, y_pred))\n",
    "    print(\"Root Mean Squared Error: {}\".format(rmse))  "
   ]
  },
  {
   "cell_type": "code",
   "execution_count": 9,
   "id": "b3ca1d46",
   "metadata": {},
   "outputs": [
    {
     "name": "stdout",
     "output_type": "stream",
     "text": [
      "Root Mean Squared Error: 5.356978393107106\n"
     ]
    }
   ],
   "source": [
    "regression_model(LinearRegression())"
   ]
  },
  {
   "cell_type": "code",
   "execution_count": 20,
   "id": "719e95f5",
   "metadata": {},
   "outputs": [
    {
     "name": "stdout",
     "output_type": "stream",
     "text": [
      "Root Mean Squared Error: 4.207472266652231\n"
     ]
    }
   ],
   "source": [
    "regression_model(LinearRegression())"
   ]
  },
  {
   "cell_type": "code",
   "execution_count": 21,
   "id": "4429c737",
   "metadata": {},
   "outputs": [
    {
     "name": "stdout",
     "output_type": "stream",
     "text": [
      "Root Mean Squared Error: 4.950813820189801\n"
     ]
    }
   ],
   "source": [
    "regression_model(LinearRegression())"
   ]
  },
  {
   "cell_type": "code",
   "execution_count": 10,
   "id": "355e99ca",
   "metadata": {},
   "outputs": [],
   "source": [
    "from sklearn.model_selection import cross_val_score"
   ]
  },
  {
   "cell_type": "code",
   "execution_count": 11,
   "id": "51076c64",
   "metadata": {},
   "outputs": [],
   "source": [
    "def regression_model_cv(model, k=5):\n",
    "    scores = cross_val_score(model, X, y,\n",
    "scoring='neg_mean_squared_error', cv=k)\n",
    "    rmse = np.sqrt(-scores)\n",
    "    print('Reg rmse:', rmse)\n",
    "    print('Reg mean:', rmse.mean())"
   ]
  },
  {
   "cell_type": "code",
   "execution_count": 12,
   "id": "62df92e2",
   "metadata": {},
   "outputs": [
    {
     "name": "stdout",
     "output_type": "stream",
     "text": [
      "Reg rmse: [3.26123843 4.42712448 5.66151114 8.09493087 5.24453989]\n",
      "Reg mean: 5.337868962878355\n"
     ]
    }
   ],
   "source": [
    "regression_model_cv(LinearRegression())"
   ]
  },
  {
   "cell_type": "code",
   "execution_count": 27,
   "id": "aba75204",
   "metadata": {},
   "outputs": [
    {
     "name": "stdout",
     "output_type": "stream",
     "text": [
      "Reg rmse: [ 3.72504914  6.01655701 23.20863933]\n",
      "Reg mean: 10.983415161090733\n"
     ]
    }
   ],
   "source": [
    "regression_model_cv(LinearRegression(), k=3)"
   ]
  },
  {
   "cell_type": "code",
   "execution_count": 28,
   "id": "71f0483e",
   "metadata": {},
   "outputs": [
    {
     "name": "stdout",
     "output_type": "stream",
     "text": [
      "Reg rmse: [3.23879491 3.97041949 5.58329663 3.92861033 9.88399671 3.91442679]\n",
      "Reg mean: 5.086590810801078\n"
     ]
    }
   ],
   "source": [
    "regression_model_cv(LinearRegression(), k=6)"
   ]
  },
  {
   "cell_type": "code",
   "execution_count": 29,
   "id": "ba7cdaa8",
   "metadata": {},
   "outputs": [
    {
     "name": "stdout",
     "output_type": "stream",
     "text": [
      "Reg rmse: [ 3.42700247  1.62018539  3.7804628   3.44292074  3.16072275  2.76230741\n",
      "  5.96924055  4.46443859  5.6446658   4.2779664   4.83888657  4.21531387\n",
      "  2.32804778  2.7529636  14.91149379  5.17911663  6.51747111  2.87261021\n",
      "  2.22906632  3.44450476]\n",
      "Reg mean: 4.391969376682711\n"
     ]
    }
   ],
   "source": [
    "regression_model_cv(LinearRegression(), k=20)"
   ]
  },
  {
   "cell_type": "code",
   "execution_count": 16,
   "id": "e46665e6",
   "metadata": {},
   "outputs": [
    {
     "name": "stdout",
     "output_type": "stream",
     "text": [
      "Reg rmse: [3.17202127 4.54972372 5.36604368 8.03715216 5.03988501]\n",
      "Reg mean: 5.232965166251767\n"
     ]
    }
   ],
   "source": [
    "from sklearn.linear_model import Ridge\n",
    "regression_model_cv(Ridge())"
   ]
  },
  {
   "cell_type": "code",
   "execution_count": 17,
   "id": "1456d38c",
   "metadata": {},
   "outputs": [
    {
     "name": "stdout",
     "output_type": "stream",
     "text": [
      "Reg rmse: [3.52318747 5.70083491 7.82318757 6.9878025  3.97229348]\n",
      "Reg mean: 5.60146118538429\n"
     ]
    }
   ],
   "source": [
    "from sklearn.linear_model import Lasso\n",
    "regression_model_cv(Lasso())"
   ]
  },
  {
   "cell_type": "code",
   "execution_count": 13,
   "id": "a4dd65c7",
   "metadata": {},
   "outputs": [
    {
     "name": "stdout",
     "output_type": "stream",
     "text": [
      "Reg rmse: [ 8.24568226  8.81322798 10.58043836  8.85643441  5.98100069]\n",
      "Reg mean: 8.495356738515685\n"
     ]
    }
   ],
   "source": [
    "from sklearn.neighbors import KNeighborsRegressor\n",
    "regression_model_cv(KNeighborsRegressor())"
   ]
  },
  {
   "cell_type": "code",
   "execution_count": 14,
   "id": "43be3b54",
   "metadata": {},
   "outputs": [
    {
     "name": "stdout",
     "output_type": "stream",
     "text": [
      "Reg rmse: [ 8.44659788  8.99814547 10.97170231  8.86647969  5.72114135]\n",
      "Reg mean: 8.600813339223432\n"
     ]
    }
   ],
   "source": [
    "regression_model_cv(KNeighborsRegressor(n_neighbors=4))"
   ]
  },
  {
   "cell_type": "code",
   "execution_count": 16,
   "id": "4abccff0",
   "metadata": {},
   "outputs": [
    {
     "name": "stdout",
     "output_type": "stream",
     "text": [
      "Reg rmse: [ 7.99710601  8.68309183 10.66332898  8.90261573  5.51032355]\n",
      "Reg mean: 8.351293217401393\n"
     ]
    }
   ],
   "source": [
    "regression_model_cv(KNeighborsRegressor(n_neighbors=7))"
   ]
  },
  {
   "cell_type": "code",
   "execution_count": 15,
   "id": "b73386c5",
   "metadata": {
    "scrolled": false
   },
   "outputs": [
    {
     "name": "stdout",
     "output_type": "stream",
     "text": [
      "Reg rmse: [ 7.47549287  8.62914556 10.69543822  8.91330686  6.52982222]\n",
      "Reg mean: 8.448641147609868\n"
     ]
    }
   ],
   "source": [
    "regression_model_cv(KNeighborsRegressor(n_neighbors=10))"
   ]
  },
  {
   "cell_type": "code",
   "execution_count": 17,
   "id": "f3a544a2",
   "metadata": {},
   "outputs": [
    {
     "data": {
      "text/plain": [
       "GridSearchCV(cv=5, estimator=KNeighborsRegressor(),\n",
       "             param_grid={'n_neighbors': array([ 1,  2,  3,  4,  5,  6,  7,  8,  9, 10, 11, 12, 13, 14, 15, 16, 17,\n",
       "       18, 19, 20])},\n",
       "             scoring='neg_mean_squared_error')"
      ]
     },
     "execution_count": 17,
     "metadata": {},
     "output_type": "execute_result"
    }
   ],
   "source": [
    "from sklearn.model_selection import GridSearchCV\n",
    "neighbors = np.linspace(1,20,20)\n",
    "k = neighbors.astype(int)\n",
    "param_grid = {'n_neighbors': k}\n",
    "knn = KNeighborsRegressor()\n",
    "knn_tuned = GridSearchCV(knn, param_grid, cv=5, scoring='neg_mean_squared_error')\n",
    "knn_tuned.fit(X,y)"
   ]
  },
  {
   "cell_type": "code",
   "execution_count": 18,
   "id": "b370e171",
   "metadata": {
    "scrolled": true
   },
   "outputs": [
    {
     "name": "stdout",
     "output_type": "stream",
     "text": [
      "Best n_neighbors: {'n_neighbors': 7}\n",
      "Best score: 8.516767055977628\n"
     ]
    }
   ],
   "source": [
    "k = knn_tuned.best_params_\n",
    "print(\"Best n_neighbors: {}\".format(k))\n",
    "score = knn_tuned.best_score_\n",
    "rsm = np.sqrt(-score)\n",
    "print(\"Best score: {}\".format(rsm))"
   ]
  },
  {
   "cell_type": "code",
   "execution_count": 19,
   "id": "f0cddd2f",
   "metadata": {},
   "outputs": [
    {
     "name": "stdout",
     "output_type": "stream",
     "text": [
      "Reg rmse: [3.7647936  7.26184759 7.78346186 6.48142428 4.79234165]\n",
      "Reg mean: 6.016773796161434\n"
     ]
    }
   ],
   "source": [
    "from sklearn import tree\n",
    "regression_model_cv(tree.DecisionTreeRegressor(random_state=0))"
   ]
  },
  {
   "cell_type": "code",
   "execution_count": 20,
   "id": "c32d75be",
   "metadata": {},
   "outputs": [
    {
     "name": "stdout",
     "output_type": "stream",
     "text": [
      "Reg rmse: [3.21859405 3.76199072 4.96431026 6.55950671 3.7700697 ]\n",
      "Reg mean: 4.454894289804201\n"
     ]
    }
   ],
   "source": [
    "from sklearn.ensemble import RandomForestRegressor\n",
    "regression_model_cv(RandomForestRegressor(random_state=0))"
   ]
  },
  {
   "cell_type": "code",
   "execution_count": 21,
   "id": "4cdcc35d",
   "metadata": {},
   "outputs": [
    {
     "name": "stdout",
     "output_type": "stream",
     "text": [
      "Reg rmse: [3.21859405 3.76199072 4.96431026 6.55950671 3.7700697 ]\n",
      "Reg mean: 4.454894289804201\n"
     ]
    }
   ],
   "source": [
    "regression_model_cv(RandomForestRegressor(n_jobs=-1, n_estimators=100, \n",
    "                                          random_state=0))"
   ]
  },
  {
   "cell_type": "code",
   "execution_count": 22,
   "id": "0f1edfc1",
   "metadata": {},
   "outputs": [],
   "source": [
    "from sklearn.model_selection import RandomizedSearchCV\n",
    "#Set up the hyperparameter grid\n",
    "param_grid = {'max_depth': [None, 10, 30, 50, 70, 100, 200, 400],\n",
    "             'min_samples_split': [2, 3, 4, 5],\n",
    "             'min_samples_leaf': [1, 2, 3],\n",
    "             'max_features': ['auto', 'sqrt']}"
   ]
  },
  {
   "cell_type": "code",
   "execution_count": 23,
   "id": "960ec8f9",
   "metadata": {},
   "outputs": [
    {
     "data": {
      "text/plain": [
       "RandomizedSearchCV(cv=5,\n",
       "                   estimator=RandomForestRegressor(n_jobs=-1, random_state=0),\n",
       "                   param_distributions={'max_depth': [None, 10, 30, 50, 70, 100,\n",
       "                                                      200, 400],\n",
       "                                        'max_features': ['auto', 'sqrt'],\n",
       "                                        'min_samples_leaf': [1, 2, 3],\n",
       "                                        'min_samples_split': [2, 3, 4, 5]},\n",
       "                   scoring='neg_mean_squared_error')"
      ]
     },
     "execution_count": 23,
     "metadata": {},
     "output_type": "execute_result"
    }
   ],
   "source": [
    "reg = RandomForestRegressor(n_jobs=-1, random_state=0)\n",
    "reg_tuned = RandomizedSearchCV(reg, param_grid, cv=5, scoring='neg_mean_squared_error')\n",
    "reg_tuned.fit(X,y)"
   ]
  },
  {
   "cell_type": "code",
   "execution_count": 24,
   "id": "fc44555b",
   "metadata": {
    "scrolled": true
   },
   "outputs": [
    {
     "name": "stdout",
     "output_type": "stream",
     "text": [
      "Best n_neighbors: {'min_samples_split': 3, 'min_samples_leaf': 1, 'max_features': 'sqrt', 'max_depth': 200}\n",
      "Best score: 4.584175183678625\n"
     ]
    }
   ],
   "source": [
    "p = reg_tuned.best_params_\n",
    "print(\"Best n_neighbors: {}\".format(p))\n",
    "score = reg_tuned.best_score_\n",
    "rsm = np.sqrt(-score)\n",
    "print(\"Best score: {}\".format(rsm))"
   ]
  },
  {
   "cell_type": "code",
   "execution_count": 25,
   "id": "895afbe3",
   "metadata": {},
   "outputs": [
    {
     "name": "stdout",
     "output_type": "stream",
     "text": [
      "Reg rmse: [3.17084646 3.7593559  4.8534035  6.49732743 3.94043004]\n",
      "Reg mean: 4.4442726650747915\n"
     ]
    }
   ],
   "source": [
    "regression_model_cv(RandomForestRegressor(n_jobs=-1, n_estimators=500,\n",
    "                                          random_state=0))"
   ]
  }
 ],
 "metadata": {
  "kernelspec": {
   "display_name": "Python 3",
   "language": "python",
   "name": "python3"
  },
  "language_info": {
   "codemirror_mode": {
    "name": "ipython",
    "version": 3
   },
   "file_extension": ".py",
   "mimetype": "text/x-python",
   "name": "python",
   "nbconvert_exporter": "python",
   "pygments_lexer": "ipython3",
   "version": "3.8.8"
  }
 },
 "nbformat": 4,
 "nbformat_minor": 5
}
